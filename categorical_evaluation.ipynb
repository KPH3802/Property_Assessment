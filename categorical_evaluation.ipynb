{
 "cells": [
  {
   "cell_type": "markdown",
   "metadata": {},
   "source": [
    " # Categorical Assessment"
   ]
  },
  {
   "cell_type": "markdown",
   "metadata": {},
   "source": [
    "Every year, real estate properties are assessed for their value. There are key attributes that are considered when evaluating a property, and these include the condition, total number of rooms, number of bedrooms, bathrooms, etc. Use a parallel categories plot to plot these attributes as dimensions. Use the interactive features of parallel category plots to review how each dimension can affect the other."
   ]
  },
  {
   "cell_type": "code",
   "execution_count": 1,
   "metadata": {},
   "outputs": [],
   "source": [
    "import pandas as pd\n",
    "import plotly.express as px\n",
    "from pathlib import Path"
   ]
  },
  {
   "cell_type": "markdown",
   "metadata": {},
   "source": [
    " ### Prep Data"
   ]
  },
  {
   "cell_type": "code",
   "execution_count": 2,
   "metadata": {},
   "outputs": [
    {
     "data": {
      "text/html": [
       "<div>\n",
       "<style scoped>\n",
       "    .dataframe tbody tr th:only-of-type {\n",
       "        vertical-align: middle;\n",
       "    }\n",
       "\n",
       "    .dataframe tbody tr th {\n",
       "        vertical-align: top;\n",
       "    }\n",
       "\n",
       "    .dataframe thead th {\n",
       "        text-align: right;\n",
       "    }\n",
       "</style>\n",
       "<table border=\"1\" class=\"dataframe\">\n",
       "  <thead>\n",
       "    <tr style=\"text-align: right;\">\n",
       "      <th></th>\n",
       "      <th>LEGAL1</th>\n",
       "      <th>LEGAL3</th>\n",
       "      <th>NEIGHCODE</th>\n",
       "      <th>TAXCODE</th>\n",
       "      <th>TAXDESC</th>\n",
       "      <th>OWNERDESC</th>\n",
       "      <th>CLASS</th>\n",
       "      <th>CLASSDESC</th>\n",
       "      <th>USECODE</th>\n",
       "      <th>USEDESC</th>\n",
       "      <th>...</th>\n",
       "      <th>CONDITION</th>\n",
       "      <th>CONDITIONDESC</th>\n",
       "      <th>TOTALROOMS</th>\n",
       "      <th>BEDROOMS</th>\n",
       "      <th>FULLBATHS</th>\n",
       "      <th>HALFBATHS</th>\n",
       "      <th>HEATINGCOOLING</th>\n",
       "      <th>HEATINGCOOLINGDESC</th>\n",
       "      <th>FIREPLACES</th>\n",
       "      <th>BSMTGARAGE</th>\n",
       "    </tr>\n",
       "    <tr>\n",
       "      <th>LEGAL2</th>\n",
       "      <th></th>\n",
       "      <th></th>\n",
       "      <th></th>\n",
       "      <th></th>\n",
       "      <th></th>\n",
       "      <th></th>\n",
       "      <th></th>\n",
       "      <th></th>\n",
       "      <th></th>\n",
       "      <th></th>\n",
       "      <th></th>\n",
       "      <th></th>\n",
       "      <th></th>\n",
       "      <th></th>\n",
       "      <th></th>\n",
       "      <th></th>\n",
       "      <th></th>\n",
       "      <th></th>\n",
       "      <th></th>\n",
       "      <th></th>\n",
       "      <th></th>\n",
       "    </tr>\n",
       "  </thead>\n",
       "  <tbody>\n",
       "    <tr>\n",
       "      <th>ST</th>\n",
       "      <td>REYNOLDS PLAN 487-488 LOT 55X110 IN ALL ARCHER</td>\n",
       "      <td>2 STY FRA ALUM SDG HSE #309</td>\n",
       "      <td>40010</td>\n",
       "      <td>T</td>\n",
       "      <td>20 - Taxable</td>\n",
       "      <td>REGULAR</td>\n",
       "      <td>R</td>\n",
       "      <td>RESIDENTIAL</td>\n",
       "      <td>10</td>\n",
       "      <td>SINGLE FAMILY</td>\n",
       "      <td>...</td>\n",
       "      <td>3.0</td>\n",
       "      <td>AVERAGE</td>\n",
       "      <td>5.0</td>\n",
       "      <td>2.0</td>\n",
       "      <td>1.0</td>\n",
       "      <td>1.0</td>\n",
       "      <td>B</td>\n",
       "      <td>Central Heat with AC</td>\n",
       "      <td>0.0</td>\n",
       "      <td>0.0</td>\n",
       "    </tr>\n",
       "    <tr>\n",
       "      <th>HIGHLAND BRANCH (1.519%)</th>\n",
       "      <td>OLDE INGOMAR CONDOMINIUM 7.52 ALD INGOMAR RD</td>\n",
       "      <td>PT BLDG NO9-2 STY TOWNHOUSE UNIT 903 OLDE</td>\n",
       "      <td>61N43</td>\n",
       "      <td>T</td>\n",
       "      <td>20 - Taxable</td>\n",
       "      <td>REGULAR</td>\n",
       "      <td>R</td>\n",
       "      <td>RESIDENTIAL</td>\n",
       "      <td>50</td>\n",
       "      <td>CONDOMINIUM</td>\n",
       "      <td>...</td>\n",
       "      <td>3.0</td>\n",
       "      <td>AVERAGE</td>\n",
       "      <td>5.0</td>\n",
       "      <td>2.0</td>\n",
       "      <td>1.0</td>\n",
       "      <td>1.0</td>\n",
       "      <td>B</td>\n",
       "      <td>Central Heat with AC</td>\n",
       "      <td>0.0</td>\n",
       "      <td>1.0</td>\n",
       "    </tr>\n",
       "    <tr>\n",
       "      <th>ALLENDER AVE</th>\n",
       "      <td>ROYAL OAK PLAN 8 PT 10 IRREG LOT 81X86.92X96.76</td>\n",
       "      <td>1 STY BRK-STONE BUNG &amp; GAR 2343</td>\n",
       "      <td>12001</td>\n",
       "      <td>T</td>\n",
       "      <td>20 - Taxable</td>\n",
       "      <td>REGULAR-ETUX OR ET VIR</td>\n",
       "      <td>R</td>\n",
       "      <td>RESIDENTIAL</td>\n",
       "      <td>10</td>\n",
       "      <td>SINGLE FAMILY</td>\n",
       "      <td>...</td>\n",
       "      <td>3.0</td>\n",
       "      <td>AVERAGE</td>\n",
       "      <td>6.0</td>\n",
       "      <td>3.0</td>\n",
       "      <td>1.0</td>\n",
       "      <td>0.0</td>\n",
       "      <td>2</td>\n",
       "      <td>Central Heat</td>\n",
       "      <td>0.0</td>\n",
       "      <td>1.0</td>\n",
       "    </tr>\n",
       "    <tr>\n",
       "      <th>ST</th>\n",
       "      <td>HOMEWOOD DRIVING PK PLAN 1116 LOT 25X100 UPLAND</td>\n",
       "      <td>2 1/2 STY BRK HSE 7143</td>\n",
       "      <td>11303</td>\n",
       "      <td>T</td>\n",
       "      <td>20 - Taxable</td>\n",
       "      <td>REGULAR</td>\n",
       "      <td>R</td>\n",
       "      <td>RESIDENTIAL</td>\n",
       "      <td>10</td>\n",
       "      <td>SINGLE FAMILY</td>\n",
       "      <td>...</td>\n",
       "      <td>4.0</td>\n",
       "      <td>FAIR</td>\n",
       "      <td>6.0</td>\n",
       "      <td>3.0</td>\n",
       "      <td>1.0</td>\n",
       "      <td>1.0</td>\n",
       "      <td>2</td>\n",
       "      <td>Central Heat</td>\n",
       "      <td>0.0</td>\n",
       "      <td>0.0</td>\n",
       "    </tr>\n",
       "    <tr>\n",
       "      <th>2 STY FRA-ALUM SDG HSE 2804</th>\n",
       "      <td>UNION PARK PLAN 205 LOT 25X100 PHILADELPHIA AV</td>\n",
       "      <td>NaN</td>\n",
       "      <td>81904</td>\n",
       "      <td>T</td>\n",
       "      <td>20 - Taxable</td>\n",
       "      <td>REGULAR</td>\n",
       "      <td>R</td>\n",
       "      <td>RESIDENTIAL</td>\n",
       "      <td>10</td>\n",
       "      <td>SINGLE FAMILY</td>\n",
       "      <td>...</td>\n",
       "      <td>3.0</td>\n",
       "      <td>AVERAGE</td>\n",
       "      <td>7.0</td>\n",
       "      <td>4.0</td>\n",
       "      <td>1.0</td>\n",
       "      <td>0.0</td>\n",
       "      <td>2</td>\n",
       "      <td>Central Heat</td>\n",
       "      <td>0.0</td>\n",
       "      <td>0.0</td>\n",
       "    </tr>\n",
       "  </tbody>\n",
       "</table>\n",
       "<p>5 rows × 62 columns</p>\n",
       "</div>"
      ],
      "text/plain": [
       "                                                                                          LEGAL1  \\\n",
       "LEGAL2                                                                                             \n",
       "ST                                               REYNOLDS PLAN 487-488 LOT 55X110 IN ALL ARCHER    \n",
       "HIGHLAND BRANCH (1.519%)                            OLDE INGOMAR CONDOMINIUM 7.52 ALD INGOMAR RD   \n",
       " ALLENDER AVE                                    ROYAL OAK PLAN 8 PT 10 IRREG LOT 81X86.92X96.76   \n",
       " ST                                              HOMEWOOD DRIVING PK PLAN 1116 LOT 25X100 UPLAND   \n",
       "2 STY FRA-ALUM SDG HSE 2804                      UNION PARK PLAN 205 LOT 25X100 PHILADELPHIA AV    \n",
       "\n",
       "                                                                                          LEGAL3  \\\n",
       "LEGAL2                                                                                             \n",
       "ST                                               2 STY FRA ALUM SDG HSE #309                       \n",
       "HIGHLAND BRANCH (1.519%)                               PT BLDG NO9-2 STY TOWNHOUSE UNIT 903 OLDE   \n",
       " ALLENDER AVE                                    1 STY BRK-STONE BUNG & GAR 2343                   \n",
       " ST                                              2 1/2 STY BRK HSE 7143                            \n",
       "2 STY FRA-ALUM SDG HSE 2804                                                                  NaN   \n",
       "\n",
       "                                                NEIGHCODE TAXCODE  \\\n",
       "LEGAL2                                                              \n",
       "ST                                                  40010       T   \n",
       "HIGHLAND BRANCH (1.519%)                            61N43       T   \n",
       " ALLENDER AVE                                       12001       T   \n",
       " ST                                                 11303       T   \n",
       "2 STY FRA-ALUM SDG HSE 2804                         81904       T   \n",
       "\n",
       "                                                      TAXDESC  \\\n",
       "LEGAL2                                                          \n",
       "ST                                               20 - Taxable   \n",
       "HIGHLAND BRANCH (1.519%)                         20 - Taxable   \n",
       " ALLENDER AVE                                    20 - Taxable   \n",
       " ST                                              20 - Taxable   \n",
       "2 STY FRA-ALUM SDG HSE 2804                      20 - Taxable   \n",
       "\n",
       "                                                              OWNERDESC CLASS  \\\n",
       "LEGAL2                                                                          \n",
       "ST                                                              REGULAR     R   \n",
       "HIGHLAND BRANCH (1.519%)                                        REGULAR     R   \n",
       " ALLENDER AVE                                    REGULAR-ETUX OR ET VIR     R   \n",
       " ST                                                             REGULAR     R   \n",
       "2 STY FRA-ALUM SDG HSE 2804                                     REGULAR     R   \n",
       "\n",
       "                                                   CLASSDESC  USECODE  \\\n",
       "LEGAL2                                                                  \n",
       "ST                                               RESIDENTIAL       10   \n",
       "HIGHLAND BRANCH (1.519%)                         RESIDENTIAL       50   \n",
       " ALLENDER AVE                                    RESIDENTIAL       10   \n",
       " ST                                              RESIDENTIAL       10   \n",
       "2 STY FRA-ALUM SDG HSE 2804                      RESIDENTIAL       10   \n",
       "\n",
       "                                                       USEDESC  ...  \\\n",
       "LEGAL2                                                          ...   \n",
       "ST                                               SINGLE FAMILY  ...   \n",
       "HIGHLAND BRANCH (1.519%)                           CONDOMINIUM  ...   \n",
       " ALLENDER AVE                                    SINGLE FAMILY  ...   \n",
       " ST                                              SINGLE FAMILY  ...   \n",
       "2 STY FRA-ALUM SDG HSE 2804                      SINGLE FAMILY  ...   \n",
       "\n",
       "                                                 CONDITION CONDITIONDESC  \\\n",
       "LEGAL2                                                                     \n",
       "ST                                                     3.0       AVERAGE   \n",
       "HIGHLAND BRANCH (1.519%)                               3.0       AVERAGE   \n",
       " ALLENDER AVE                                          3.0       AVERAGE   \n",
       " ST                                                    4.0          FAIR   \n",
       "2 STY FRA-ALUM SDG HSE 2804                            3.0       AVERAGE   \n",
       "\n",
       "                                                TOTALROOMS BEDROOMS FULLBATHS  \\\n",
       "LEGAL2                                                                          \n",
       "ST                                                     5.0      2.0       1.0   \n",
       "HIGHLAND BRANCH (1.519%)                               5.0      2.0       1.0   \n",
       " ALLENDER AVE                                          6.0      3.0       1.0   \n",
       " ST                                                    6.0      3.0       1.0   \n",
       "2 STY FRA-ALUM SDG HSE 2804                            7.0      4.0       1.0   \n",
       "\n",
       "                                                HALFBATHS HEATINGCOOLING  \\\n",
       "LEGAL2                                                                     \n",
       "ST                                                    1.0              B   \n",
       "HIGHLAND BRANCH (1.519%)                              1.0              B   \n",
       " ALLENDER AVE                                         0.0              2   \n",
       " ST                                                   1.0              2   \n",
       "2 STY FRA-ALUM SDG HSE 2804                           0.0              2   \n",
       "\n",
       "                                                   HEATINGCOOLINGDESC  \\\n",
       "LEGAL2                                                                  \n",
       "ST                                               Central Heat with AC   \n",
       "HIGHLAND BRANCH (1.519%)                         Central Heat with AC   \n",
       " ALLENDER AVE                                            Central Heat   \n",
       " ST                                                      Central Heat   \n",
       "2 STY FRA-ALUM SDG HSE 2804                              Central Heat   \n",
       "\n",
       "                                                FIREPLACES BSMTGARAGE  \n",
       "LEGAL2                                                                 \n",
       "ST                                                     0.0        0.0  \n",
       "HIGHLAND BRANCH (1.519%)                               0.0        1.0  \n",
       " ALLENDER AVE                                          0.0        1.0  \n",
       " ST                                                    0.0        0.0  \n",
       "2 STY FRA-ALUM SDG HSE 2804                            0.0        0.0  \n",
       "\n",
       "[5 rows x 62 columns]"
      ]
     },
     "execution_count": 2,
     "metadata": {},
     "output_type": "execute_result"
    }
   ],
   "source": [
    "# Read in data\n",
    "prop_assessments = pd.read_csv(\n",
    "    Path(\"../Resources/allegheny_property_assessments.csv\"), \n",
    "    index_col=\"LEGAL2\", \n",
    "    low_memory=False\n",
    ").sample(50, replace=True)\n",
    "prop_assessments.head()"
   ]
  },
  {
   "cell_type": "markdown",
   "metadata": {},
   "source": [
    " ### Slice Data"
   ]
  },
  {
   "cell_type": "code",
   "execution_count": 6,
   "metadata": {},
   "outputs": [
    {
     "data": {
      "text/html": [
       "<div>\n",
       "<style scoped>\n",
       "    .dataframe tbody tr th:only-of-type {\n",
       "        vertical-align: middle;\n",
       "    }\n",
       "\n",
       "    .dataframe tbody tr th {\n",
       "        vertical-align: top;\n",
       "    }\n",
       "\n",
       "    .dataframe thead th {\n",
       "        text-align: right;\n",
       "    }\n",
       "</style>\n",
       "<table border=\"1\" class=\"dataframe\">\n",
       "  <thead>\n",
       "    <tr style=\"text-align: right;\">\n",
       "      <th></th>\n",
       "      <th>LOCALTOTAL</th>\n",
       "      <th>USEDESC</th>\n",
       "      <th>TOTALROOMS</th>\n",
       "      <th>BEDROOMS</th>\n",
       "      <th>FULLBATHS</th>\n",
       "    </tr>\n",
       "    <tr>\n",
       "      <th>LEGAL2</th>\n",
       "      <th></th>\n",
       "      <th></th>\n",
       "      <th></th>\n",
       "      <th></th>\n",
       "      <th></th>\n",
       "    </tr>\n",
       "  </thead>\n",
       "  <tbody>\n",
       "    <tr>\n",
       "      <th>ST</th>\n",
       "      <td>30500</td>\n",
       "      <td>SINGLE FAMILY</td>\n",
       "      <td>5.0</td>\n",
       "      <td>2.0</td>\n",
       "      <td>1.0</td>\n",
       "    </tr>\n",
       "    <tr>\n",
       "      <th>HIGHLAND BRANCH (1.519%)</th>\n",
       "      <td>107700</td>\n",
       "      <td>CONDOMINIUM</td>\n",
       "      <td>5.0</td>\n",
       "      <td>2.0</td>\n",
       "      <td>1.0</td>\n",
       "    </tr>\n",
       "    <tr>\n",
       "      <th>ALLENDER AVE</th>\n",
       "      <td>99000</td>\n",
       "      <td>SINGLE FAMILY</td>\n",
       "      <td>6.0</td>\n",
       "      <td>3.0</td>\n",
       "      <td>1.0</td>\n",
       "    </tr>\n",
       "    <tr>\n",
       "      <th>ST</th>\n",
       "      <td>19400</td>\n",
       "      <td>SINGLE FAMILY</td>\n",
       "      <td>6.0</td>\n",
       "      <td>3.0</td>\n",
       "      <td>1.0</td>\n",
       "    </tr>\n",
       "    <tr>\n",
       "      <th>2 STY FRA-ALUM SDG HSE 2804</th>\n",
       "      <td>82100</td>\n",
       "      <td>SINGLE FAMILY</td>\n",
       "      <td>7.0</td>\n",
       "      <td>4.0</td>\n",
       "      <td>1.0</td>\n",
       "    </tr>\n",
       "  </tbody>\n",
       "</table>\n",
       "</div>"
      ],
      "text/plain": [
       "                                                 LOCALTOTAL        USEDESC  \\\n",
       "LEGAL2                                                                       \n",
       "ST                                                    30500  SINGLE FAMILY   \n",
       "HIGHLAND BRANCH (1.519%)                             107700    CONDOMINIUM   \n",
       " ALLENDER AVE                                         99000  SINGLE FAMILY   \n",
       " ST                                                   19400  SINGLE FAMILY   \n",
       "2 STY FRA-ALUM SDG HSE 2804                           82100  SINGLE FAMILY   \n",
       "\n",
       "                                                 TOTALROOMS  BEDROOMS  \\\n",
       "LEGAL2                                                                  \n",
       "ST                                                      5.0       2.0   \n",
       "HIGHLAND BRANCH (1.519%)                                5.0       2.0   \n",
       " ALLENDER AVE                                           6.0       3.0   \n",
       " ST                                                     6.0       3.0   \n",
       "2 STY FRA-ALUM SDG HSE 2804                             7.0       4.0   \n",
       "\n",
       "                                                 FULLBATHS  \n",
       "LEGAL2                                                      \n",
       "ST                                                     1.0  \n",
       "HIGHLAND BRANCH (1.519%)                               1.0  \n",
       " ALLENDER AVE                                          1.0  \n",
       " ST                                                    1.0  \n",
       "2 STY FRA-ALUM SDG HSE 2804                            1.0  "
      ]
     },
     "execution_count": 6,
     "metadata": {},
     "output_type": "execute_result"
    }
   ],
   "source": [
    "# Select list of columns\n",
    "smaller_df = prop_assessments.loc[:,['LOCALTOTAL', 'USEDESC', 'TOTALROOMS', 'BEDROOMS', 'FULLBATHS']]\n",
    "smaller_df.head()"
   ]
  },
  {
   "cell_type": "markdown",
   "metadata": {},
   "source": [
    " ### Plot Data"
   ]
  },
  {
   "cell_type": "code",
   "execution_count": 8,
   "metadata": {},
   "outputs": [
    {
     "data": {
      "application/vnd.plotly.v1+json": {
       "config": {
        "plotlyServerURL": "https://plot.ly"
       },
       "data": [
        {
         "dimensions": [
          {
           "label": "USEDESC",
           "values": [
            "SINGLE FAMILY",
            "CONDOMINIUM",
            "SINGLE FAMILY",
            "SINGLE FAMILY",
            "SINGLE FAMILY",
            "SINGLE FAMILY",
            "SINGLE FAMILY",
            "MOBILE HOME (IN PARK)",
            "SINGLE FAMILY",
            "SINGLE FAMILY",
            "SINGLE FAMILY",
            "SINGLE FAMILY",
            "SINGLE FAMILY",
            "SINGLE FAMILY",
            "SINGLE FAMILY",
            "SINGLE FAMILY",
            "SINGLE FAMILY",
            "ROWHOUSE",
            "TWO FAMILY",
            "SINGLE FAMILY",
            "SINGLE FAMILY",
            "SINGLE FAMILY",
            "SINGLE FAMILY",
            "SINGLE FAMILY",
            "SINGLE FAMILY",
            "SINGLE FAMILY",
            "SINGLE FAMILY",
            "SINGLE FAMILY",
            "SINGLE FAMILY",
            "FOUR FAMILY",
            "SINGLE FAMILY",
            "SINGLE FAMILY",
            "SINGLE FAMILY",
            "SINGLE FAMILY",
            "SINGLE FAMILY",
            "THREE FAMILY",
            "SINGLE FAMILY",
            "SINGLE FAMILY",
            "SINGLE FAMILY",
            "SINGLE FAMILY",
            "SINGLE FAMILY",
            "SINGLE FAMILY",
            "SINGLE FAMILY",
            "CONDOMINIUM",
            "SINGLE FAMILY",
            "SINGLE FAMILY",
            "SINGLE FAMILY",
            "TOWNHOUSE",
            "TWO FAMILY",
            "SINGLE FAMILY"
           ]
          },
          {
           "label": "TOTALROOMS",
           "values": [
            5,
            5,
            6,
            6,
            7,
            10,
            8,
            4,
            8,
            8,
            4,
            8,
            9,
            5,
            7,
            6,
            4,
            4,
            4,
            5,
            7,
            6,
            6,
            5,
            7,
            7,
            8,
            6,
            8,
            16,
            12,
            5,
            10,
            7,
            4,
            12,
            10,
            6,
            7,
            6,
            5,
            6,
            5,
            4,
            3,
            7,
            6,
            6,
            8,
            8
           ]
          },
          {
           "label": "BEDROOMS",
           "values": [
            2,
            2,
            3,
            3,
            4,
            4,
            4,
            2,
            4,
            3,
            2,
            4,
            4,
            2,
            3,
            3,
            2,
            2,
            2,
            3,
            3,
            3,
            3,
            2,
            4,
            3,
            4,
            3,
            3,
            8,
            6,
            3,
            6,
            3,
            2,
            6,
            5,
            3,
            4,
            3,
            2,
            3,
            3,
            2,
            1,
            3,
            3,
            3,
            4,
            5
           ]
          },
          {
           "label": "FULLBATHS",
           "values": [
            1,
            1,
            1,
            1,
            1,
            4,
            2,
            1,
            2,
            2,
            1,
            1,
            2,
            1,
            1,
            2,
            1,
            1,
            1,
            1,
            1,
            2,
            1,
            1,
            1,
            2,
            2,
            1,
            2,
            4,
            3,
            1,
            2,
            2,
            1,
            3,
            2,
            1,
            2,
            1,
            1,
            1,
            1,
            2,
            1,
            2,
            1,
            1,
            2,
            1
           ]
          }
         ],
         "domain": {
          "x": [
           0,
           1
          ],
          "y": [
           0,
           1
          ]
         },
         "line": {
          "color": [
           30500,
           107700,
           99000,
           19400,
           82100,
           545400,
           155800,
           1400,
           240400,
           181400,
           94000,
           26900,
           217400,
           113000,
           108500,
           162800,
           35000,
           15700,
           33300,
           131300,
           127600,
           60900,
           75100,
           57700,
           32200,
           195700,
           238200,
           155000,
           135500,
           64000,
           579600,
           90800,
           145600,
           212800,
           28100,
           103500,
           240000,
           112300,
           218500,
           24100,
           65200,
           125100,
           45700,
           102700,
           22900,
           213600,
           75900,
           110000,
           59000,
           51600
          ],
          "coloraxis": "coloraxis"
         },
         "name": "",
         "type": "parcats"
        }
       ],
       "layout": {
        "coloraxis": {
         "colorbar": {
          "title": {
           "text": "LOCALTOTAL"
          }
         },
         "colorscale": [
          [
           0,
           "#0d0887"
          ],
          [
           0.1111111111111111,
           "#46039f"
          ],
          [
           0.2222222222222222,
           "#7201a8"
          ],
          [
           0.3333333333333333,
           "#9c179e"
          ],
          [
           0.4444444444444444,
           "#bd3786"
          ],
          [
           0.5555555555555556,
           "#d8576b"
          ],
          [
           0.6666666666666666,
           "#ed7953"
          ],
          [
           0.7777777777777778,
           "#fb9f3a"
          ],
          [
           0.8888888888888888,
           "#fdca26"
          ],
          [
           1,
           "#f0f921"
          ]
         ]
        },
        "legend": {
         "tracegroupgap": 0
        },
        "margin": {
         "t": 60
        },
        "template": {
         "data": {
          "bar": [
           {
            "error_x": {
             "color": "#2a3f5f"
            },
            "error_y": {
             "color": "#2a3f5f"
            },
            "marker": {
             "line": {
              "color": "#E5ECF6",
              "width": 0.5
             }
            },
            "type": "bar"
           }
          ],
          "barpolar": [
           {
            "marker": {
             "line": {
              "color": "#E5ECF6",
              "width": 0.5
             }
            },
            "type": "barpolar"
           }
          ],
          "carpet": [
           {
            "aaxis": {
             "endlinecolor": "#2a3f5f",
             "gridcolor": "white",
             "linecolor": "white",
             "minorgridcolor": "white",
             "startlinecolor": "#2a3f5f"
            },
            "baxis": {
             "endlinecolor": "#2a3f5f",
             "gridcolor": "white",
             "linecolor": "white",
             "minorgridcolor": "white",
             "startlinecolor": "#2a3f5f"
            },
            "type": "carpet"
           }
          ],
          "choropleth": [
           {
            "colorbar": {
             "outlinewidth": 0,
             "ticks": ""
            },
            "type": "choropleth"
           }
          ],
          "contour": [
           {
            "colorbar": {
             "outlinewidth": 0,
             "ticks": ""
            },
            "colorscale": [
             [
              0,
              "#0d0887"
             ],
             [
              0.1111111111111111,
              "#46039f"
             ],
             [
              0.2222222222222222,
              "#7201a8"
             ],
             [
              0.3333333333333333,
              "#9c179e"
             ],
             [
              0.4444444444444444,
              "#bd3786"
             ],
             [
              0.5555555555555556,
              "#d8576b"
             ],
             [
              0.6666666666666666,
              "#ed7953"
             ],
             [
              0.7777777777777778,
              "#fb9f3a"
             ],
             [
              0.8888888888888888,
              "#fdca26"
             ],
             [
              1,
              "#f0f921"
             ]
            ],
            "type": "contour"
           }
          ],
          "contourcarpet": [
           {
            "colorbar": {
             "outlinewidth": 0,
             "ticks": ""
            },
            "type": "contourcarpet"
           }
          ],
          "heatmap": [
           {
            "colorbar": {
             "outlinewidth": 0,
             "ticks": ""
            },
            "colorscale": [
             [
              0,
              "#0d0887"
             ],
             [
              0.1111111111111111,
              "#46039f"
             ],
             [
              0.2222222222222222,
              "#7201a8"
             ],
             [
              0.3333333333333333,
              "#9c179e"
             ],
             [
              0.4444444444444444,
              "#bd3786"
             ],
             [
              0.5555555555555556,
              "#d8576b"
             ],
             [
              0.6666666666666666,
              "#ed7953"
             ],
             [
              0.7777777777777778,
              "#fb9f3a"
             ],
             [
              0.8888888888888888,
              "#fdca26"
             ],
             [
              1,
              "#f0f921"
             ]
            ],
            "type": "heatmap"
           }
          ],
          "heatmapgl": [
           {
            "colorbar": {
             "outlinewidth": 0,
             "ticks": ""
            },
            "colorscale": [
             [
              0,
              "#0d0887"
             ],
             [
              0.1111111111111111,
              "#46039f"
             ],
             [
              0.2222222222222222,
              "#7201a8"
             ],
             [
              0.3333333333333333,
              "#9c179e"
             ],
             [
              0.4444444444444444,
              "#bd3786"
             ],
             [
              0.5555555555555556,
              "#d8576b"
             ],
             [
              0.6666666666666666,
              "#ed7953"
             ],
             [
              0.7777777777777778,
              "#fb9f3a"
             ],
             [
              0.8888888888888888,
              "#fdca26"
             ],
             [
              1,
              "#f0f921"
             ]
            ],
            "type": "heatmapgl"
           }
          ],
          "histogram": [
           {
            "marker": {
             "colorbar": {
              "outlinewidth": 0,
              "ticks": ""
             }
            },
            "type": "histogram"
           }
          ],
          "histogram2d": [
           {
            "colorbar": {
             "outlinewidth": 0,
             "ticks": ""
            },
            "colorscale": [
             [
              0,
              "#0d0887"
             ],
             [
              0.1111111111111111,
              "#46039f"
             ],
             [
              0.2222222222222222,
              "#7201a8"
             ],
             [
              0.3333333333333333,
              "#9c179e"
             ],
             [
              0.4444444444444444,
              "#bd3786"
             ],
             [
              0.5555555555555556,
              "#d8576b"
             ],
             [
              0.6666666666666666,
              "#ed7953"
             ],
             [
              0.7777777777777778,
              "#fb9f3a"
             ],
             [
              0.8888888888888888,
              "#fdca26"
             ],
             [
              1,
              "#f0f921"
             ]
            ],
            "type": "histogram2d"
           }
          ],
          "histogram2dcontour": [
           {
            "colorbar": {
             "outlinewidth": 0,
             "ticks": ""
            },
            "colorscale": [
             [
              0,
              "#0d0887"
             ],
             [
              0.1111111111111111,
              "#46039f"
             ],
             [
              0.2222222222222222,
              "#7201a8"
             ],
             [
              0.3333333333333333,
              "#9c179e"
             ],
             [
              0.4444444444444444,
              "#bd3786"
             ],
             [
              0.5555555555555556,
              "#d8576b"
             ],
             [
              0.6666666666666666,
              "#ed7953"
             ],
             [
              0.7777777777777778,
              "#fb9f3a"
             ],
             [
              0.8888888888888888,
              "#fdca26"
             ],
             [
              1,
              "#f0f921"
             ]
            ],
            "type": "histogram2dcontour"
           }
          ],
          "mesh3d": [
           {
            "colorbar": {
             "outlinewidth": 0,
             "ticks": ""
            },
            "type": "mesh3d"
           }
          ],
          "parcoords": [
           {
            "line": {
             "colorbar": {
              "outlinewidth": 0,
              "ticks": ""
             }
            },
            "type": "parcoords"
           }
          ],
          "pie": [
           {
            "automargin": true,
            "type": "pie"
           }
          ],
          "scatter": [
           {
            "marker": {
             "colorbar": {
              "outlinewidth": 0,
              "ticks": ""
             }
            },
            "type": "scatter"
           }
          ],
          "scatter3d": [
           {
            "line": {
             "colorbar": {
              "outlinewidth": 0,
              "ticks": ""
             }
            },
            "marker": {
             "colorbar": {
              "outlinewidth": 0,
              "ticks": ""
             }
            },
            "type": "scatter3d"
           }
          ],
          "scattercarpet": [
           {
            "marker": {
             "colorbar": {
              "outlinewidth": 0,
              "ticks": ""
             }
            },
            "type": "scattercarpet"
           }
          ],
          "scattergeo": [
           {
            "marker": {
             "colorbar": {
              "outlinewidth": 0,
              "ticks": ""
             }
            },
            "type": "scattergeo"
           }
          ],
          "scattergl": [
           {
            "marker": {
             "colorbar": {
              "outlinewidth": 0,
              "ticks": ""
             }
            },
            "type": "scattergl"
           }
          ],
          "scattermapbox": [
           {
            "marker": {
             "colorbar": {
              "outlinewidth": 0,
              "ticks": ""
             }
            },
            "type": "scattermapbox"
           }
          ],
          "scatterpolar": [
           {
            "marker": {
             "colorbar": {
              "outlinewidth": 0,
              "ticks": ""
             }
            },
            "type": "scatterpolar"
           }
          ],
          "scatterpolargl": [
           {
            "marker": {
             "colorbar": {
              "outlinewidth": 0,
              "ticks": ""
             }
            },
            "type": "scatterpolargl"
           }
          ],
          "scatterternary": [
           {
            "marker": {
             "colorbar": {
              "outlinewidth": 0,
              "ticks": ""
             }
            },
            "type": "scatterternary"
           }
          ],
          "surface": [
           {
            "colorbar": {
             "outlinewidth": 0,
             "ticks": ""
            },
            "colorscale": [
             [
              0,
              "#0d0887"
             ],
             [
              0.1111111111111111,
              "#46039f"
             ],
             [
              0.2222222222222222,
              "#7201a8"
             ],
             [
              0.3333333333333333,
              "#9c179e"
             ],
             [
              0.4444444444444444,
              "#bd3786"
             ],
             [
              0.5555555555555556,
              "#d8576b"
             ],
             [
              0.6666666666666666,
              "#ed7953"
             ],
             [
              0.7777777777777778,
              "#fb9f3a"
             ],
             [
              0.8888888888888888,
              "#fdca26"
             ],
             [
              1,
              "#f0f921"
             ]
            ],
            "type": "surface"
           }
          ],
          "table": [
           {
            "cells": {
             "fill": {
              "color": "#EBF0F8"
             },
             "line": {
              "color": "white"
             }
            },
            "header": {
             "fill": {
              "color": "#C8D4E3"
             },
             "line": {
              "color": "white"
             }
            },
            "type": "table"
           }
          ]
         },
         "layout": {
          "annotationdefaults": {
           "arrowcolor": "#2a3f5f",
           "arrowhead": 0,
           "arrowwidth": 1
          },
          "coloraxis": {
           "colorbar": {
            "outlinewidth": 0,
            "ticks": ""
           }
          },
          "colorscale": {
           "diverging": [
            [
             0,
             "#8e0152"
            ],
            [
             0.1,
             "#c51b7d"
            ],
            [
             0.2,
             "#de77ae"
            ],
            [
             0.3,
             "#f1b6da"
            ],
            [
             0.4,
             "#fde0ef"
            ],
            [
             0.5,
             "#f7f7f7"
            ],
            [
             0.6,
             "#e6f5d0"
            ],
            [
             0.7,
             "#b8e186"
            ],
            [
             0.8,
             "#7fbc41"
            ],
            [
             0.9,
             "#4d9221"
            ],
            [
             1,
             "#276419"
            ]
           ],
           "sequential": [
            [
             0,
             "#0d0887"
            ],
            [
             0.1111111111111111,
             "#46039f"
            ],
            [
             0.2222222222222222,
             "#7201a8"
            ],
            [
             0.3333333333333333,
             "#9c179e"
            ],
            [
             0.4444444444444444,
             "#bd3786"
            ],
            [
             0.5555555555555556,
             "#d8576b"
            ],
            [
             0.6666666666666666,
             "#ed7953"
            ],
            [
             0.7777777777777778,
             "#fb9f3a"
            ],
            [
             0.8888888888888888,
             "#fdca26"
            ],
            [
             1,
             "#f0f921"
            ]
           ],
           "sequentialminus": [
            [
             0,
             "#0d0887"
            ],
            [
             0.1111111111111111,
             "#46039f"
            ],
            [
             0.2222222222222222,
             "#7201a8"
            ],
            [
             0.3333333333333333,
             "#9c179e"
            ],
            [
             0.4444444444444444,
             "#bd3786"
            ],
            [
             0.5555555555555556,
             "#d8576b"
            ],
            [
             0.6666666666666666,
             "#ed7953"
            ],
            [
             0.7777777777777778,
             "#fb9f3a"
            ],
            [
             0.8888888888888888,
             "#fdca26"
            ],
            [
             1,
             "#f0f921"
            ]
           ]
          },
          "colorway": [
           "#636efa",
           "#EF553B",
           "#00cc96",
           "#ab63fa",
           "#FFA15A",
           "#19d3f3",
           "#FF6692",
           "#B6E880",
           "#FF97FF",
           "#FECB52"
          ],
          "font": {
           "color": "#2a3f5f"
          },
          "geo": {
           "bgcolor": "white",
           "lakecolor": "white",
           "landcolor": "#E5ECF6",
           "showlakes": true,
           "showland": true,
           "subunitcolor": "white"
          },
          "hoverlabel": {
           "align": "left"
          },
          "hovermode": "closest",
          "mapbox": {
           "style": "light"
          },
          "paper_bgcolor": "white",
          "plot_bgcolor": "#E5ECF6",
          "polar": {
           "angularaxis": {
            "gridcolor": "white",
            "linecolor": "white",
            "ticks": ""
           },
           "bgcolor": "#E5ECF6",
           "radialaxis": {
            "gridcolor": "white",
            "linecolor": "white",
            "ticks": ""
           }
          },
          "scene": {
           "xaxis": {
            "backgroundcolor": "#E5ECF6",
            "gridcolor": "white",
            "gridwidth": 2,
            "linecolor": "white",
            "showbackground": true,
            "ticks": "",
            "zerolinecolor": "white"
           },
           "yaxis": {
            "backgroundcolor": "#E5ECF6",
            "gridcolor": "white",
            "gridwidth": 2,
            "linecolor": "white",
            "showbackground": true,
            "ticks": "",
            "zerolinecolor": "white"
           },
           "zaxis": {
            "backgroundcolor": "#E5ECF6",
            "gridcolor": "white",
            "gridwidth": 2,
            "linecolor": "white",
            "showbackground": true,
            "ticks": "",
            "zerolinecolor": "white"
           }
          },
          "shapedefaults": {
           "line": {
            "color": "#2a3f5f"
           }
          },
          "ternary": {
           "aaxis": {
            "gridcolor": "white",
            "linecolor": "white",
            "ticks": ""
           },
           "baxis": {
            "gridcolor": "white",
            "linecolor": "white",
            "ticks": ""
           },
           "bgcolor": "#E5ECF6",
           "caxis": {
            "gridcolor": "white",
            "linecolor": "white",
            "ticks": ""
           }
          },
          "title": {
           "x": 0.05
          },
          "xaxis": {
           "automargin": true,
           "gridcolor": "white",
           "linecolor": "white",
           "ticks": "",
           "title": {
            "standoff": 15
           },
           "zerolinecolor": "white",
           "zerolinewidth": 2
          },
          "yaxis": {
           "automargin": true,
           "gridcolor": "white",
           "linecolor": "white",
           "ticks": "",
           "title": {
            "standoff": 15
           },
           "zerolinecolor": "white",
           "zerolinewidth": 2
          }
         }
        }
       }
      },
      "text/html": [
       "<div>\n",
       "        \n",
       "        \n",
       "            <div id=\"97cecc16-c9e3-478e-868e-9b3ff66c3625\" class=\"plotly-graph-div\" style=\"height:525px; width:100%;\"></div>\n",
       "            <script type=\"text/javascript\">\n",
       "                require([\"plotly\"], function(Plotly) {\n",
       "                    window.PLOTLYENV=window.PLOTLYENV || {};\n",
       "                    \n",
       "                if (document.getElementById(\"97cecc16-c9e3-478e-868e-9b3ff66c3625\")) {\n",
       "                    Plotly.newPlot(\n",
       "                        '97cecc16-c9e3-478e-868e-9b3ff66c3625',\n",
       "                        [{\"dimensions\": [{\"label\": \"USEDESC\", \"values\": [\"SINGLE FAMILY\", \"CONDOMINIUM\", \"SINGLE FAMILY\", \"SINGLE FAMILY\", \"SINGLE FAMILY\", \"SINGLE FAMILY\", \"SINGLE FAMILY\", \"MOBILE HOME (IN PARK)\", \"SINGLE FAMILY\", \"SINGLE FAMILY\", \"SINGLE FAMILY\", \"SINGLE FAMILY\", \"SINGLE FAMILY\", \"SINGLE FAMILY\", \"SINGLE FAMILY\", \"SINGLE FAMILY\", \"SINGLE FAMILY\", \"ROWHOUSE\", \"TWO FAMILY\", \"SINGLE FAMILY\", \"SINGLE FAMILY\", \"SINGLE FAMILY\", \"SINGLE FAMILY\", \"SINGLE FAMILY\", \"SINGLE FAMILY\", \"SINGLE FAMILY\", \"SINGLE FAMILY\", \"SINGLE FAMILY\", \"SINGLE FAMILY\", \"FOUR FAMILY\", \"SINGLE FAMILY\", \"SINGLE FAMILY\", \"SINGLE FAMILY\", \"SINGLE FAMILY\", \"SINGLE FAMILY\", \"THREE FAMILY\", \"SINGLE FAMILY\", \"SINGLE FAMILY\", \"SINGLE FAMILY\", \"SINGLE FAMILY\", \"SINGLE FAMILY\", \"SINGLE FAMILY\", \"SINGLE FAMILY\", \"CONDOMINIUM\", \"SINGLE FAMILY\", \"SINGLE FAMILY\", \"SINGLE FAMILY\", \"TOWNHOUSE\", \"TWO FAMILY\", \"SINGLE FAMILY\"]}, {\"label\": \"TOTALROOMS\", \"values\": [5.0, 5.0, 6.0, 6.0, 7.0, 10.0, 8.0, 4.0, 8.0, 8.0, 4.0, 8.0, 9.0, 5.0, 7.0, 6.0, 4.0, 4.0, 4.0, 5.0, 7.0, 6.0, 6.0, 5.0, 7.0, 7.0, 8.0, 6.0, 8.0, 16.0, 12.0, 5.0, 10.0, 7.0, 4.0, 12.0, 10.0, 6.0, 7.0, 6.0, 5.0, 6.0, 5.0, 4.0, 3.0, 7.0, 6.0, 6.0, 8.0, 8.0]}, {\"label\": \"BEDROOMS\", \"values\": [2.0, 2.0, 3.0, 3.0, 4.0, 4.0, 4.0, 2.0, 4.0, 3.0, 2.0, 4.0, 4.0, 2.0, 3.0, 3.0, 2.0, 2.0, 2.0, 3.0, 3.0, 3.0, 3.0, 2.0, 4.0, 3.0, 4.0, 3.0, 3.0, 8.0, 6.0, 3.0, 6.0, 3.0, 2.0, 6.0, 5.0, 3.0, 4.0, 3.0, 2.0, 3.0, 3.0, 2.0, 1.0, 3.0, 3.0, 3.0, 4.0, 5.0]}, {\"label\": \"FULLBATHS\", \"values\": [1.0, 1.0, 1.0, 1.0, 1.0, 4.0, 2.0, 1.0, 2.0, 2.0, 1.0, 1.0, 2.0, 1.0, 1.0, 2.0, 1.0, 1.0, 1.0, 1.0, 1.0, 2.0, 1.0, 1.0, 1.0, 2.0, 2.0, 1.0, 2.0, 4.0, 3.0, 1.0, 2.0, 2.0, 1.0, 3.0, 2.0, 1.0, 2.0, 1.0, 1.0, 1.0, 1.0, 2.0, 1.0, 2.0, 1.0, 1.0, 2.0, 1.0]}], \"domain\": {\"x\": [0.0, 1.0], \"y\": [0.0, 1.0]}, \"line\": {\"color\": [30500, 107700, 99000, 19400, 82100, 545400, 155800, 1400, 240400, 181400, 94000, 26900, 217400, 113000, 108500, 162800, 35000, 15700, 33300, 131300, 127600, 60900, 75100, 57700, 32200, 195700, 238200, 155000, 135500, 64000, 579600, 90800, 145600, 212800, 28100, 103500, 240000, 112300, 218500, 24100, 65200, 125100, 45700, 102700, 22900, 213600, 75900, 110000, 59000, 51600], \"coloraxis\": \"coloraxis\"}, \"name\": \"\", \"type\": \"parcats\"}],\n",
       "                        {\"coloraxis\": {\"colorbar\": {\"title\": {\"text\": \"LOCALTOTAL\"}}, \"colorscale\": [[0.0, \"#0d0887\"], [0.1111111111111111, \"#46039f\"], [0.2222222222222222, \"#7201a8\"], [0.3333333333333333, \"#9c179e\"], [0.4444444444444444, \"#bd3786\"], [0.5555555555555556, \"#d8576b\"], [0.6666666666666666, \"#ed7953\"], [0.7777777777777778, \"#fb9f3a\"], [0.8888888888888888, \"#fdca26\"], [1.0, \"#f0f921\"]]}, \"legend\": {\"tracegroupgap\": 0}, \"margin\": {\"t\": 60}, \"template\": {\"data\": {\"bar\": [{\"error_x\": {\"color\": \"#2a3f5f\"}, \"error_y\": {\"color\": \"#2a3f5f\"}, \"marker\": {\"line\": {\"color\": \"#E5ECF6\", \"width\": 0.5}}, \"type\": \"bar\"}], \"barpolar\": [{\"marker\": {\"line\": {\"color\": \"#E5ECF6\", \"width\": 0.5}}, \"type\": \"barpolar\"}], \"carpet\": [{\"aaxis\": {\"endlinecolor\": \"#2a3f5f\", \"gridcolor\": \"white\", \"linecolor\": \"white\", \"minorgridcolor\": \"white\", \"startlinecolor\": \"#2a3f5f\"}, \"baxis\": {\"endlinecolor\": \"#2a3f5f\", \"gridcolor\": \"white\", \"linecolor\": \"white\", \"minorgridcolor\": \"white\", \"startlinecolor\": \"#2a3f5f\"}, \"type\": \"carpet\"}], \"choropleth\": [{\"colorbar\": {\"outlinewidth\": 0, \"ticks\": \"\"}, \"type\": \"choropleth\"}], \"contour\": [{\"colorbar\": {\"outlinewidth\": 0, \"ticks\": \"\"}, \"colorscale\": [[0.0, \"#0d0887\"], [0.1111111111111111, \"#46039f\"], [0.2222222222222222, \"#7201a8\"], [0.3333333333333333, \"#9c179e\"], [0.4444444444444444, \"#bd3786\"], [0.5555555555555556, \"#d8576b\"], [0.6666666666666666, \"#ed7953\"], [0.7777777777777778, \"#fb9f3a\"], [0.8888888888888888, \"#fdca26\"], [1.0, \"#f0f921\"]], \"type\": \"contour\"}], \"contourcarpet\": [{\"colorbar\": {\"outlinewidth\": 0, \"ticks\": \"\"}, \"type\": \"contourcarpet\"}], \"heatmap\": [{\"colorbar\": {\"outlinewidth\": 0, \"ticks\": \"\"}, \"colorscale\": [[0.0, \"#0d0887\"], [0.1111111111111111, \"#46039f\"], [0.2222222222222222, \"#7201a8\"], [0.3333333333333333, \"#9c179e\"], [0.4444444444444444, \"#bd3786\"], [0.5555555555555556, \"#d8576b\"], [0.6666666666666666, \"#ed7953\"], [0.7777777777777778, \"#fb9f3a\"], [0.8888888888888888, \"#fdca26\"], [1.0, \"#f0f921\"]], \"type\": \"heatmap\"}], \"heatmapgl\": [{\"colorbar\": {\"outlinewidth\": 0, \"ticks\": \"\"}, \"colorscale\": [[0.0, \"#0d0887\"], [0.1111111111111111, \"#46039f\"], [0.2222222222222222, \"#7201a8\"], [0.3333333333333333, \"#9c179e\"], [0.4444444444444444, \"#bd3786\"], [0.5555555555555556, \"#d8576b\"], [0.6666666666666666, \"#ed7953\"], [0.7777777777777778, \"#fb9f3a\"], [0.8888888888888888, \"#fdca26\"], [1.0, \"#f0f921\"]], \"type\": \"heatmapgl\"}], \"histogram\": [{\"marker\": {\"colorbar\": {\"outlinewidth\": 0, \"ticks\": \"\"}}, \"type\": \"histogram\"}], \"histogram2d\": [{\"colorbar\": {\"outlinewidth\": 0, \"ticks\": \"\"}, \"colorscale\": [[0.0, \"#0d0887\"], [0.1111111111111111, \"#46039f\"], [0.2222222222222222, \"#7201a8\"], [0.3333333333333333, \"#9c179e\"], [0.4444444444444444, \"#bd3786\"], [0.5555555555555556, \"#d8576b\"], [0.6666666666666666, \"#ed7953\"], [0.7777777777777778, \"#fb9f3a\"], [0.8888888888888888, \"#fdca26\"], [1.0, \"#f0f921\"]], \"type\": \"histogram2d\"}], \"histogram2dcontour\": [{\"colorbar\": {\"outlinewidth\": 0, \"ticks\": \"\"}, \"colorscale\": [[0.0, \"#0d0887\"], [0.1111111111111111, \"#46039f\"], [0.2222222222222222, \"#7201a8\"], [0.3333333333333333, \"#9c179e\"], [0.4444444444444444, \"#bd3786\"], [0.5555555555555556, \"#d8576b\"], [0.6666666666666666, \"#ed7953\"], [0.7777777777777778, \"#fb9f3a\"], [0.8888888888888888, \"#fdca26\"], [1.0, \"#f0f921\"]], \"type\": \"histogram2dcontour\"}], \"mesh3d\": [{\"colorbar\": {\"outlinewidth\": 0, \"ticks\": \"\"}, \"type\": \"mesh3d\"}], \"parcoords\": [{\"line\": {\"colorbar\": {\"outlinewidth\": 0, \"ticks\": \"\"}}, \"type\": \"parcoords\"}], \"pie\": [{\"automargin\": true, \"type\": \"pie\"}], \"scatter\": [{\"marker\": {\"colorbar\": {\"outlinewidth\": 0, \"ticks\": \"\"}}, \"type\": \"scatter\"}], \"scatter3d\": [{\"line\": {\"colorbar\": {\"outlinewidth\": 0, \"ticks\": \"\"}}, \"marker\": {\"colorbar\": {\"outlinewidth\": 0, \"ticks\": \"\"}}, \"type\": \"scatter3d\"}], \"scattercarpet\": [{\"marker\": {\"colorbar\": {\"outlinewidth\": 0, \"ticks\": \"\"}}, \"type\": \"scattercarpet\"}], \"scattergeo\": [{\"marker\": {\"colorbar\": {\"outlinewidth\": 0, \"ticks\": \"\"}}, \"type\": \"scattergeo\"}], \"scattergl\": [{\"marker\": {\"colorbar\": {\"outlinewidth\": 0, \"ticks\": \"\"}}, \"type\": \"scattergl\"}], \"scattermapbox\": [{\"marker\": {\"colorbar\": {\"outlinewidth\": 0, \"ticks\": \"\"}}, \"type\": \"scattermapbox\"}], \"scatterpolar\": [{\"marker\": {\"colorbar\": {\"outlinewidth\": 0, \"ticks\": \"\"}}, \"type\": \"scatterpolar\"}], \"scatterpolargl\": [{\"marker\": {\"colorbar\": {\"outlinewidth\": 0, \"ticks\": \"\"}}, \"type\": \"scatterpolargl\"}], \"scatterternary\": [{\"marker\": {\"colorbar\": {\"outlinewidth\": 0, \"ticks\": \"\"}}, \"type\": \"scatterternary\"}], \"surface\": [{\"colorbar\": {\"outlinewidth\": 0, \"ticks\": \"\"}, \"colorscale\": [[0.0, \"#0d0887\"], [0.1111111111111111, \"#46039f\"], [0.2222222222222222, \"#7201a8\"], [0.3333333333333333, \"#9c179e\"], [0.4444444444444444, \"#bd3786\"], [0.5555555555555556, \"#d8576b\"], [0.6666666666666666, \"#ed7953\"], [0.7777777777777778, \"#fb9f3a\"], [0.8888888888888888, \"#fdca26\"], [1.0, \"#f0f921\"]], \"type\": \"surface\"}], \"table\": [{\"cells\": {\"fill\": {\"color\": \"#EBF0F8\"}, \"line\": {\"color\": \"white\"}}, \"header\": {\"fill\": {\"color\": \"#C8D4E3\"}, \"line\": {\"color\": \"white\"}}, \"type\": \"table\"}]}, \"layout\": {\"annotationdefaults\": {\"arrowcolor\": \"#2a3f5f\", \"arrowhead\": 0, \"arrowwidth\": 1}, \"coloraxis\": {\"colorbar\": {\"outlinewidth\": 0, \"ticks\": \"\"}}, \"colorscale\": {\"diverging\": [[0, \"#8e0152\"], [0.1, \"#c51b7d\"], [0.2, \"#de77ae\"], [0.3, \"#f1b6da\"], [0.4, \"#fde0ef\"], [0.5, \"#f7f7f7\"], [0.6, \"#e6f5d0\"], [0.7, \"#b8e186\"], [0.8, \"#7fbc41\"], [0.9, \"#4d9221\"], [1, \"#276419\"]], \"sequential\": [[0.0, \"#0d0887\"], [0.1111111111111111, \"#46039f\"], [0.2222222222222222, \"#7201a8\"], [0.3333333333333333, \"#9c179e\"], [0.4444444444444444, \"#bd3786\"], [0.5555555555555556, \"#d8576b\"], [0.6666666666666666, \"#ed7953\"], [0.7777777777777778, \"#fb9f3a\"], [0.8888888888888888, \"#fdca26\"], [1.0, \"#f0f921\"]], \"sequentialminus\": [[0.0, \"#0d0887\"], [0.1111111111111111, \"#46039f\"], [0.2222222222222222, \"#7201a8\"], [0.3333333333333333, \"#9c179e\"], [0.4444444444444444, \"#bd3786\"], [0.5555555555555556, \"#d8576b\"], [0.6666666666666666, \"#ed7953\"], [0.7777777777777778, \"#fb9f3a\"], [0.8888888888888888, \"#fdca26\"], [1.0, \"#f0f921\"]]}, \"colorway\": [\"#636efa\", \"#EF553B\", \"#00cc96\", \"#ab63fa\", \"#FFA15A\", \"#19d3f3\", \"#FF6692\", \"#B6E880\", \"#FF97FF\", \"#FECB52\"], \"font\": {\"color\": \"#2a3f5f\"}, \"geo\": {\"bgcolor\": \"white\", \"lakecolor\": \"white\", \"landcolor\": \"#E5ECF6\", \"showlakes\": true, \"showland\": true, \"subunitcolor\": \"white\"}, \"hoverlabel\": {\"align\": \"left\"}, \"hovermode\": \"closest\", \"mapbox\": {\"style\": \"light\"}, \"paper_bgcolor\": \"white\", \"plot_bgcolor\": \"#E5ECF6\", \"polar\": {\"angularaxis\": {\"gridcolor\": \"white\", \"linecolor\": \"white\", \"ticks\": \"\"}, \"bgcolor\": \"#E5ECF6\", \"radialaxis\": {\"gridcolor\": \"white\", \"linecolor\": \"white\", \"ticks\": \"\"}}, \"scene\": {\"xaxis\": {\"backgroundcolor\": \"#E5ECF6\", \"gridcolor\": \"white\", \"gridwidth\": 2, \"linecolor\": \"white\", \"showbackground\": true, \"ticks\": \"\", \"zerolinecolor\": \"white\"}, \"yaxis\": {\"backgroundcolor\": \"#E5ECF6\", \"gridcolor\": \"white\", \"gridwidth\": 2, \"linecolor\": \"white\", \"showbackground\": true, \"ticks\": \"\", \"zerolinecolor\": \"white\"}, \"zaxis\": {\"backgroundcolor\": \"#E5ECF6\", \"gridcolor\": \"white\", \"gridwidth\": 2, \"linecolor\": \"white\", \"showbackground\": true, \"ticks\": \"\", \"zerolinecolor\": \"white\"}}, \"shapedefaults\": {\"line\": {\"color\": \"#2a3f5f\"}}, \"ternary\": {\"aaxis\": {\"gridcolor\": \"white\", \"linecolor\": \"white\", \"ticks\": \"\"}, \"baxis\": {\"gridcolor\": \"white\", \"linecolor\": \"white\", \"ticks\": \"\"}, \"bgcolor\": \"#E5ECF6\", \"caxis\": {\"gridcolor\": \"white\", \"linecolor\": \"white\", \"ticks\": \"\"}}, \"title\": {\"x\": 0.05}, \"xaxis\": {\"automargin\": true, \"gridcolor\": \"white\", \"linecolor\": \"white\", \"ticks\": \"\", \"title\": {\"standoff\": 15}, \"zerolinecolor\": \"white\", \"zerolinewidth\": 2}, \"yaxis\": {\"automargin\": true, \"gridcolor\": \"white\", \"linecolor\": \"white\", \"ticks\": \"\", \"title\": {\"standoff\": 15}, \"zerolinecolor\": \"white\", \"zerolinewidth\": 2}}}},\n",
       "                        {\"responsive\": true}\n",
       "                    ).then(function(){\n",
       "                            \n",
       "var gd = document.getElementById('97cecc16-c9e3-478e-868e-9b3ff66c3625');\n",
       "var x = new MutationObserver(function (mutations, observer) {{\n",
       "        var display = window.getComputedStyle(gd).display;\n",
       "        if (!display || display === 'none') {{\n",
       "            console.log([gd, 'removed!']);\n",
       "            Plotly.purge(gd);\n",
       "            observer.disconnect();\n",
       "        }}\n",
       "}});\n",
       "\n",
       "// Listen for the removal of the full notebook cells\n",
       "var notebookContainer = gd.closest('#notebook-container');\n",
       "if (notebookContainer) {{\n",
       "    x.observe(notebookContainer, {childList: true});\n",
       "}}\n",
       "\n",
       "// Listen for the clearing of the current output cell\n",
       "var outputEl = gd.closest('.output');\n",
       "if (outputEl) {{\n",
       "    x.observe(outputEl, {childList: true});\n",
       "}}\n",
       "\n",
       "                        })\n",
       "                };\n",
       "                });\n",
       "            </script>\n",
       "        </div>"
      ]
     },
     "metadata": {},
     "output_type": "display_data"
    }
   ],
   "source": [
    "# Plot data\n",
    "px.parallel_categories(smaller_df, dimensions=['USEDESC', 'TOTALROOMS', 'BEDROOMS', 'FULLBATHS'], color='LOCALTOTAL')"
   ]
  },
  {
   "cell_type": "code",
   "execution_count": null,
   "metadata": {},
   "outputs": [],
   "source": []
  }
 ],
 "metadata": {
  "file_extension": ".py",
  "kernelspec": {
   "display_name": "PyVizEnv",
   "language": "python",
   "name": "pyvizenv"
  },
  "language_info": {
   "codemirror_mode": {
    "name": "ipython",
    "version": 3
   },
   "file_extension": ".py",
   "mimetype": "text/x-python",
   "name": "python",
   "nbconvert_exporter": "python",
   "pygments_lexer": "ipython3",
   "version": "3.7.7"
  },
  "mimetype": "text/x-python",
  "name": "python",
  "npconvert_exporter": "python",
  "pygments_lexer": "ipython3",
  "version": 3
 },
 "nbformat": 4,
 "nbformat_minor": 4
}
